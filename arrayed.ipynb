{
 "cells": [
  {
   "cell_type": "markdown",
   "metadata": {},
   "source": [
    "# Arrayed SD\n",
    "\n",
    "Arrayed SD allows for arrays to be used in SD models. \n",
    "\n",
    "First let's look at how arrayed SD works. We start with some boilerplate to get a BPTK project up and running:"
   ]
  },
  {
   "cell_type": "code",
   "execution_count": 1,
   "metadata": {},
   "outputs": [],
   "source": [
    "from BPTK_Py import Model\n",
    "import BPTK_Py\n",
    "\n",
    "model = Model(starttime=0.0, stoptime=20.0, dt=1.0, name=\"Test Model\")"
   ]
  },
  {
   "cell_type": "markdown",
   "metadata": {},
   "source": [
    "Next we can start creating arrayed components. There are two options for arrayed elements: Vectors (one dimensional arrays) and Matrices (two dimensional arrays). These can be declared as follows:"
   ]
  },
  {
   "cell_type": "code",
   "execution_count": 2,
   "metadata": {},
   "outputs": [],
   "source": [
    "vector = model.converter(\"converter_vector\")\n",
    "\n",
    "# create a vector of length 2 with values 2.0, 3.0\n",
    "vector.setup_vector(2, [2.0, 3.0])\n",
    "\n",
    "matrix = model.converter(\"converter_matrix\")\n",
    "\n",
    "# create a matrix of size 2x3 with values [2.0, 3.0, 4.0], [5.0, 6.0, 7.0]\n",
    "matrix.setup_matrix([2, 3], [[2.0, 3.0, 4.0], [5.0, 6.0, 7.0]])"
   ]
  },
  {
   "cell_type": "markdown",
   "metadata": {},
   "source": [
    "A variety of operations can be performed on vectors and matrices. Below are some examples, for a more detailed list see the documentation."
   ]
  },
  {
   "cell_type": "code",
   "execution_count": 3,
   "metadata": {},
   "outputs": [
    {
     "data": {
      "text/plain": [
       "6.0"
      ]
     },
     "execution_count": 3,
     "metadata": {},
     "output_type": "execute_result"
    }
   ],
   "source": [
    "# multiply the vector with the matrix\n",
    "multiplied = model.converter(\"multiplied\")\n",
    "multiplied.equation = vector.dot(matrix)\n",
    "\n",
    "# get the second biggest element of the vector\n",
    "rank = model.converter(\"rank\")\n",
    "rank.equation = matrix.arr_rank(2)\n",
    "\n",
    "# Let's get the output of the rank converter\n",
    "data = rank.plot(return_df=True)\n",
    "data[rank.name][1]"
   ]
  },
  {
   "cell_type": "markdown",
   "metadata": {},
   "source": [
    "## Named Arrays\n",
    "Besides vectors and matrices named arrays are possible. These arrays can make code more readable but do not allow for some functions to be used which require indexed matrices (e.g. the dot operator). Below is an example."
   ]
  },
  {
   "cell_type": "code",
   "execution_count": 48,
   "metadata": {},
   "outputs": [
    {
     "name": "stdout",
     "output_type": "stream",
     "text": [
      "named[tax_austria] 0.2\n",
      "named[tax_germany] 0.19\n",
      "named[tax_switzerland] 0.08\n"
     ]
    }
   ],
   "source": [
    "named = model.converter(\"named\")\n",
    "named[\"tax_germany\"] = 0.19\n",
    "named[\"tax_switzerland\"] = 0.08\n",
    "named[\"tax_austria\"] = 0.20\n",
    "\n",
    "# todo: this does not work yet\n",
    "data = named.plot(return_df=True)\n",
    "#data[named.name][\"tax_germany\"]\n",
    "\n",
    "print(data[named.name].iloc[0].columns[0], data[named.name].iloc[0].values[0][0])\n",
    "print(data[named.name].iloc[1].columns[0], data[named.name].iloc[1].values[0][0])\n",
    "print(data[named.name].iloc[2].columns[0], data[named.name].iloc[2].values[0][0])"
   ]
  },
  {
   "cell_type": "markdown",
   "metadata": {},
   "source": [
    "## Plotting\n",
    "Plotting vectors and matrices is straightforward. Let's plot the vector below:"
   ]
  },
  {
   "cell_type": "code",
   "execution_count": 5,
   "metadata": {},
   "outputs": [],
   "source": [
    "scenario_manager = {\"sm\": {\"model\": model}}\n",
    "\n",
    "bptk = BPTK_Py.bptk()\n",
    "bptk.register_scenario_manager(scenario_manager)\n",
    "bptk.register_scenarios(\n",
    "    scenario_manager=\"sm\",\n",
    "    scenarios=\n",
    "    {\n",
    "        \"testScenario\":{}\n",
    "    }\n",
    ")"
   ]
  },
  {
   "cell_type": "code",
   "execution_count": 6,
   "metadata": {},
   "outputs": [
    {
     "data": {
      "application/vnd.jupyter.widget-view+json": {
       "model_id": "a8dcbe25dfc84f08bfbd8a517940b019",
       "version_major": 2,
       "version_minor": 0
      },
      "text/plain": [
       "Output()"
      ]
     },
     "metadata": {},
     "output_type": "display_data"
    }
   ],
   "source": [
    "from BPTK_Py.visualizations import SimpleDashboard\n",
    "import ipywidgets as widgets\n",
    "\n",
    "dashboard = SimpleDashboard(bptk, scenario_manager=\"sm\", scenario=\"testScenario\")\n",
    "\n",
    "plot = dashboard.add_plot(\n",
    "    equations=[\"converter_vector[0]\", \"converter_vector[1]\"], \n",
    "    names=[\"VectorX\", \"VectorY\"],\n",
    "    title=\"Vector\",\n",
    "    x_label=\"X\",\n",
    "    y_label=\"Y\",\n",
    ")\n",
    "\n",
    "display(plot)\n",
    "dashboard.start()"
   ]
  },
  {
   "cell_type": "markdown",
   "metadata": {},
   "source": [
    "Similarly matrices can be plotted."
   ]
  },
  {
   "cell_type": "code",
   "execution_count": 7,
   "metadata": {},
   "outputs": [
    {
     "data": {
      "application/vnd.jupyter.widget-view+json": {
       "model_id": "0af67f2d9ca74e9ba2f3bf6ea5bf2a69",
       "version_major": 2,
       "version_minor": 0
      },
      "text/plain": [
       "Output()"
      ]
     },
     "metadata": {},
     "output_type": "display_data"
    }
   ],
   "source": [
    "from BPTK_Py.visualizations import SimpleDashboard\n",
    "import ipywidgets as widgets\n",
    "\n",
    "dashboard = SimpleDashboard(bptk, scenario_manager=\"sm\", scenario=\"testScenario\")\n",
    "\n",
    "plot = dashboard.add_plot(\n",
    "    equations=[\"converter_matrix[0][0]\", \"converter_matrix[0][1]\", \"converter_matrix[0][2]\", \"converter_matrix[1][0]\", \"converter_matrix[1][1]\", \"converter_matrix[1][2]\"],\n",
    "    names=[\"Matrix00\", \"Matrix01\", \"Matrix02\", \"Matrix10\", \"Matrix11\", \"Matrix12\"],\n",
    "    title=\"Matrix\",\n",
    "    x_label=\"X\",\n",
    "    y_label=\"Y\",\n",
    ")\n",
    "\n",
    "display(plot)\n",
    "dashboard.start()"
   ]
  },
  {
   "cell_type": "markdown",
   "metadata": {},
   "source": [
    "The same works for named arrays:"
   ]
  },
  {
   "cell_type": "code",
   "execution_count": 8,
   "metadata": {},
   "outputs": [
    {
     "data": {
      "application/vnd.jupyter.widget-view+json": {
       "model_id": "dfa777fba9394a1b8b4aa2d4c3fe16c3",
       "version_major": 2,
       "version_minor": 0
      },
      "text/plain": [
       "Output()"
      ]
     },
     "metadata": {},
     "output_type": "display_data"
    }
   ],
   "source": [
    "from BPTK_Py.visualizations import SimpleDashboard\n",
    "import ipywidgets as widgets\n",
    "\n",
    "dashboard = SimpleDashboard(bptk, scenario_manager=\"sm\", scenario=\"testScenario\")\n",
    "\n",
    "plot = dashboard.add_plot(\n",
    "    equations=[\"named[tax_germany]\", \"named[tax_switzerland]\", \"named[tax_austria]\"],\n",
    "    names=[\"Germany\", \"Switzerland\", \"Austria\"],\n",
    "    title=\"Taxes\",\n",
    "    x_label=\"X\",\n",
    "    y_label=\"Y\",\n",
    ")\n",
    "\n",
    "display(plot)\n",
    "dashboard.start()"
   ]
  },
  {
   "cell_type": "markdown",
   "metadata": {},
   "source": [
    "## Function documentation\n",
    "\n",
    "Below is documentation of all relevant arrayed SD functions. First, let's declare some basic elements to do operations on:"
   ]
  },
  {
   "cell_type": "code",
   "execution_count": 9,
   "metadata": {},
   "outputs": [],
   "source": [
    "constant = model.converter(\"converter_constant\")\n",
    "constant.equation = 100.0\n",
    "\n",
    "vector3 = model.converter(\"converter_vector3\")\n",
    "vector3.setup_vector(3, [2.0, 3.0, 4.0])\n",
    "\n",
    "matrix33 = model.converter(\"converter_matrix3\")\n",
    "matrix33.setup_matrix([3, 3], [[2.0, 3.0, 4.0], [5.0, 6.0, 7.0], [8.0, 9.0, 10.0]])\n",
    "\n",
    "matrix32 = model.converter(\"converter_matrix32\")\n",
    "matrix32.setup_matrix([3, 2], [[2.0, 3.0], [5.0, 6.0], [8.0, 9.0]])"
   ]
  },
  {
   "cell_type": "markdown",
   "metadata": {},
   "source": [
    "### Array Sum\n",
    "Calculates the element-wise sum of an array.\n",
    "\n",
    "Parameter:\n",
    "    - include_all: Boolean -> If true, includes both numbered and named elements.\n",
    "\n",
    "Example (2.0 + 3.0 + 4.0 = 9.0):"
   ]
  },
  {
   "cell_type": "code",
   "execution_count": 10,
   "metadata": {},
   "outputs": [
    {
     "data": {
      "text/plain": [
       "9.0"
      ]
     },
     "execution_count": 10,
     "metadata": {},
     "output_type": "execute_result"
    }
   ],
   "source": [
    "arr_sum_converter = model.converter(\"arr_sum_converter\")\n",
    "arr_sum_converter.equation = vector3.arr_sum()\n",
    "\n",
    "data = arr_sum_converter.plot(return_df=True)\n",
    "assert(data[arr_sum_converter.name][0] == 9.0)\n",
    "data[arr_sum_converter.name][0]"
   ]
  },
  {
   "cell_type": "markdown",
   "metadata": {},
   "source": [
    "### Array Product\n",
    "Calculates the element-wise product of an array.\n",
    "\n",
    "Parameter:\n",
    "    - include_all: Boolean -> If true, includes both numbered and named elements.\n",
    "\n",
    "Example (2.0 * 3.0 * 4.0 = 24.0):"
   ]
  },
  {
   "cell_type": "code",
   "execution_count": 11,
   "metadata": {},
   "outputs": [
    {
     "data": {
      "text/plain": [
       "24.0"
      ]
     },
     "execution_count": 11,
     "metadata": {},
     "output_type": "execute_result"
    }
   ],
   "source": [
    "arr_prod_converter = model.converter(\"arr_prod_converter\")\n",
    "arr_prod_converter.equation = vector3.arr_prod()\n",
    "\n",
    "data = arr_prod_converter.plot(return_df=True)\n",
    "assert(data[arr_prod_converter.name][0] == 24.0)\n",
    "data[arr_prod_converter.name][0]"
   ]
  },
  {
   "cell_type": "markdown",
   "metadata": {},
   "source": [
    "### Array rank\n",
    "Calculates the nth highest element of an array.\n",
    "\n",
    "Parameter: \n",
    "    - rank: int -> The rankth highest element will be returned.\n",
    "\n",
    "Example: (third highest of matrix33 = 8.0):"
   ]
  },
  {
   "cell_type": "code",
   "execution_count": 12,
   "metadata": {},
   "outputs": [
    {
     "data": {
      "text/plain": [
       "8.0"
      ]
     },
     "execution_count": 12,
     "metadata": {},
     "output_type": "execute_result"
    }
   ],
   "source": [
    "arr_rank_converter = model.converter(\"arr_rank_converter\")\n",
    "arr_rank_converter.equation = matrix33.arr_rank(3)\n",
    "\n",
    "data = arr_rank_converter.plot(return_df=True)\n",
    "assert(data[arr_rank_converter.name][0] == 8.0)\n",
    "data[arr_rank_converter.name][0]"
   ]
  },
  {
   "cell_type": "markdown",
   "metadata": {},
   "source": [
    "### Array Mean\n",
    "Calculates the element-wise mean of an array.\n",
    "\n",
    "Example (mean of matrix32 = 5.5):"
   ]
  },
  {
   "cell_type": "code",
   "execution_count": 13,
   "metadata": {},
   "outputs": [
    {
     "data": {
      "text/plain": [
       "5.5"
      ]
     },
     "execution_count": 13,
     "metadata": {},
     "output_type": "execute_result"
    }
   ],
   "source": [
    "arr_mean_converter = model.converter(\"arr_mean_converter\")\n",
    "arr_mean_converter.equation = matrix32.arr_mean()\n",
    "\n",
    "data = arr_mean_converter.plot(return_df=True)\n",
    "assert(data[arr_mean_converter.name][0] == 5.5)\n",
    "data[arr_mean_converter.name][0]"
   ]
  },
  {
   "cell_type": "markdown",
   "metadata": {},
   "source": [
    "### Array Median\n",
    "Calculates the element-wise median of an array.\n",
    "\n",
    "Example (meadian of matrix32 = 5.5):"
   ]
  },
  {
   "cell_type": "code",
   "execution_count": 14,
   "metadata": {},
   "outputs": [
    {
     "data": {
      "text/plain": [
       "5.5"
      ]
     },
     "execution_count": 14,
     "metadata": {},
     "output_type": "execute_result"
    }
   ],
   "source": [
    "arr_median_converter = model.converter(\"arr_median_converter\")\n",
    "arr_median_converter.equation = matrix32.arr_median()\n",
    "\n",
    "data = arr_median_converter.plot(return_df=True)\n",
    "assert(data[arr_median_converter.name][0] == 5.5)\n",
    "data[arr_median_converter.name][0]"
   ]
  },
  {
   "cell_type": "markdown",
   "metadata": {},
   "source": [
    "### Array Standard Deviation\n",
    "Calculates the element-wise standard deviation of an array.\n",
    "\n",
    "Example (standard deviation of matrix32 = 2.5):"
   ]
  },
  {
   "cell_type": "code",
   "execution_count": 15,
   "metadata": {},
   "outputs": [
    {
     "data": {
      "text/plain": [
       "2.5"
      ]
     },
     "execution_count": 15,
     "metadata": {},
     "output_type": "execute_result"
    }
   ],
   "source": [
    "arr_stddev_converter = model.converter(\"arr_stddev_converter\")\n",
    "arr_stddev_converter.equation = matrix32.arr_stddev()\n",
    "\n",
    "data = arr_stddev_converter.plot(return_df=True)\n",
    "assert(data[arr_stddev_converter.name][0] == 2.5)\n",
    "data[arr_stddev_converter.name][0]"
   ]
  },
  {
   "cell_type": "markdown",
   "metadata": {},
   "source": [
    "### Array Size\n",
    "Calculates the size of an array. The size of the highest level will be returned (for example 3 for a 3 by 2 matrix).\n",
    "\n",
    "Example (size of matrix32 = 3)"
   ]
  },
  {
   "cell_type": "code",
   "execution_count": 16,
   "metadata": {},
   "outputs": [
    {
     "data": {
      "text/plain": [
       "3"
      ]
     },
     "execution_count": 16,
     "metadata": {},
     "output_type": "execute_result"
    }
   ],
   "source": [
    "arr_size_converter = model.converter(\"arr_size_converter\")\n",
    "arr_size_converter.equation = matrix32.arr_size()\n",
    "\n",
    "data = arr_size_converter.plot(return_df=True)\n",
    "assert(data[arr_size_converter.name][0] == 3)\n",
    "data[arr_size_converter.name][0]"
   ]
  },
  {
   "cell_type": "markdown",
   "metadata": {},
   "source": [
    "### Array Dot\n",
    "The Dot function uses matrix/vector multiplication logic. It is possible to input illegal arguments. Legal inputs are:\n",
    "- Any vector * constant => vector\n",
    "- Any matrix * constant => matrix\n",
    "- Vector of size m * Vector of size m => constant\n",
    "- Vector of size m * Matrix of size mxn => vector of size m\n",
    "- Matrix of size mxn * Vector of size n => vector of size n\n",
    "- Matrix of size mxn * Matrix of size nxp => matrix of size mxp\n",
    "\n",
    "Below are examples for the described dot operations:"
   ]
  },
  {
   "cell_type": "markdown",
   "metadata": {},
   "source": [
    "#### Vector x Constant:"
   ]
  },
  {
   "cell_type": "code",
   "execution_count": 56,
   "metadata": {},
   "outputs": [
    {
     "data": {
      "text/plain": [
       "['vec_dot_constant_converter[0]: 200.0',\n",
       " 'vec_dot_constant_converter[1]: 300.0',\n",
       " 'vec_dot_constant_converter[2]: 400.0']"
      ]
     },
     "execution_count": 56,
     "metadata": {},
     "output_type": "execute_result"
    }
   ],
   "source": [
    "def get_vector_as_array(element, length):\n",
    "    data = element.plot(return_df=True)\n",
    "    arr = []\n",
    "    for i in range(length):\n",
    "        arr.append(f\"{data[element.name].iloc[i].columns[0]}: {data[element.name].iloc[i].values[0][0]}\")\n",
    "    return arr\n",
    "\n",
    "vec_dot_constant_converter = model.converter(\"vec_dot_constant_converter\")\n",
    "vec_dot_constant_converter.equation = vector3.dot(constant)\n",
    "\n",
    "get_vector_as_array(vec_dot_constant_converter, 3)"
   ]
  },
  {
   "cell_type": "markdown",
   "metadata": {},
   "source": [
    "#### Vector x Vector"
   ]
  },
  {
   "cell_type": "code",
   "execution_count": 57,
   "metadata": {},
   "outputs": [
    {
     "data": {
      "text/plain": [
       "29.0"
      ]
     },
     "execution_count": 57,
     "metadata": {},
     "output_type": "execute_result"
    }
   ],
   "source": [
    "vec_dot_vec_converter = model.converter(\"vec_dot_vec_converter\")\n",
    "vec_dot_vec_converter.equation = vector3.dot(vector3)\n",
    "\n",
    "data = vec_dot_vec_converter.plot(return_df=True)\n",
    "data[vec_dot_vec_converter.name][0]"
   ]
  },
  {
   "cell_type": "markdown",
   "metadata": {},
   "source": [
    "#### Vector x Matrix"
   ]
  },
  {
   "cell_type": "code",
   "execution_count": 58,
   "metadata": {},
   "outputs": [
    {
     "data": {
      "text/plain": [
       "['vec_dot_mat_converter[0]: 51.0',\n",
       " 'vec_dot_mat_converter[1]: 60.0',\n",
       " 'vec_dot_mat_converter[2]: 69.0']"
      ]
     },
     "execution_count": 58,
     "metadata": {},
     "output_type": "execute_result"
    }
   ],
   "source": [
    "vec_dot_mat_converter = model.converter(\"vec_dot_mat_converter\")\n",
    "vec_dot_mat_converter.equation = vector3.dot(matrix33)\n",
    "\n",
    "get_vector_as_array(vec_dot_mat_converter, 3)"
   ]
  },
  {
   "cell_type": "markdown",
   "metadata": {},
   "source": [
    "#### Matrix x Vector"
   ]
  },
  {
   "cell_type": "code",
   "execution_count": 59,
   "metadata": {},
   "outputs": [
    {
     "data": {
      "text/plain": [
       "['mat_dot_vec_converter[0]: 29.0',\n",
       " 'mat_dot_vec_converter[1]: 56.0',\n",
       " 'mat_dot_vec_converter[2]: 83.0']"
      ]
     },
     "execution_count": 59,
     "metadata": {},
     "output_type": "execute_result"
    }
   ],
   "source": [
    "mat_dot_vec_converter = model.converter(\"mat_dot_vec_converter\")\n",
    "mat_dot_vec_converter.equation = matrix33.dot(vector3)\n",
    "\n",
    "get_vector_as_array(mat_dot_vec_converter, 3)"
   ]
  },
  {
   "cell_type": "markdown",
   "metadata": {},
   "source": [
    "#### Matrix x Matrix"
   ]
  },
  {
   "cell_type": "markdown",
   "metadata": {},
   "source": [
    "### Math operations\n",
    "Mathematical operations are executed on a per-element basis. That means that for all basic mathematical operations both arrays have to have equal size, the exception being array constant operations. Below are examples for all basic mathematical operations.\\\n",
    "\n",
    "#### Multiplication\n",
    "Element-wise multiplication works with arrays of the same size or arrays and constants.\n",
    "\n",
    "Example: ([2.0, 3.0, 4.0] * [2.0, 3.0, 4.0] = [4.0, 9.0, 16.0]):"
   ]
  },
  {
   "cell_type": "code",
   "execution_count": 61,
   "metadata": {},
   "outputs": [
    {
     "data": {
      "text/plain": [
       "['vec_mul_vec_converter[0]: 4.0',\n",
       " 'vec_mul_vec_converter[1]: 9.0',\n",
       " 'vec_mul_vec_converter[2]: 16.0']"
      ]
     },
     "execution_count": 61,
     "metadata": {},
     "output_type": "execute_result"
    }
   ],
   "source": [
    "vec_mul_vec_converter = model.converter(\"vec_mul_vec_converter\")\n",
    "vec_mul_vec_converter.equation = vector3 * vector3\n",
    "\n",
    "get_vector_as_array(vec_mul_vec_converter, 3)"
   ]
  },
  {
   "cell_type": "markdown",
   "metadata": {},
   "source": [
    "#### Addition\n",
    "Element-wise multiplication works with arrays of the same size or arrays and constants.\n",
    "\n",
    "Example: ([2.0, 3.0, 4.0] + [2.0, 3.0, 4.0] = [4.0, 6.0, 8.0]):"
   ]
  },
  {
   "cell_type": "code",
   "execution_count": 62,
   "metadata": {},
   "outputs": [
    {
     "data": {
      "text/plain": [
       "['vec_add_vec_converter[0]: 4.0',\n",
       " 'vec_add_vec_converter[1]: 6.0',\n",
       " 'vec_add_vec_converter[2]: 8.0']"
      ]
     },
     "execution_count": 62,
     "metadata": {},
     "output_type": "execute_result"
    }
   ],
   "source": [
    "vec_add_vec_converter = model.converter(\"vec_add_vec_converter\")\n",
    "vec_add_vec_converter.equation = vector3 + vector3\n",
    "\n",
    "get_vector_as_array(vec_add_vec_converter, 3)"
   ]
  },
  {
   "cell_type": "markdown",
   "metadata": {},
   "source": [
    "#### Division\n",
    "Element-wise division works with arrays of the same size or arrays and constants.\n",
    "\n",
    "Example: ([2.0, 3.0, 4.0] / [4.0, 3.0, 2.0] = [4.0, 6.0, 8.0]):"
   ]
  },
  {
   "cell_type": "code",
   "execution_count": null,
   "metadata": {},
   "outputs": [],
   "source": [
    "vec_div_vec_converter = model.converter(\"vec_div_vec_converter\")\n",
    "vector3_alternative = model.converter(\"converter_vector3_alternative\")\n",
    "vector3_alternative.setup_vector(3, [4.0, 3.0, 2.0])\n",
    "vec_div_vec_converter.equation = vector3 / vector3_alternative\n",
    "\n",
    "get_vector_as_array(vec_div_vec_converter, 3)"
   ]
  }
 ],
 "metadata": {
  "kernelspec": {
   "display_name": "Python 3.10.4 ('bptk10')",
   "language": "python",
   "name": "python3"
  },
  "language_info": {
   "codemirror_mode": {
    "name": "ipython",
    "version": 3
   },
   "file_extension": ".py",
   "mimetype": "text/x-python",
   "name": "python",
   "nbconvert_exporter": "python",
   "pygments_lexer": "ipython3",
   "version": "3.10.4"
  },
  "orig_nbformat": 4,
  "vscode": {
   "interpreter": {
    "hash": "32dc7c30cf0b3d13959adf15c59b607580cbcbba2d1099acb134a41dd703ab30"
   }
  }
 },
 "nbformat": 4,
 "nbformat_minor": 2
}
