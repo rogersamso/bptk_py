{
 "cells": [
  {
   "cell_type": "markdown",
   "metadata": {},
   "source": [
    "## Scenario Manager\n",
    "\n",
    "This tool lets you easily check all available simulation scenarios and define your own ones using the predefined JSON structure"
   ]
  },
  {
   "cell_type": "code",
   "execution_count": null,
   "metadata": {},
   "outputs": [],
   "source": [
    "from BPTK_Py.scenario_manager.scenario_manager import scenarioManager\n",
    "scenarioManager = scenarioManager()\n"
   ]
  },
  {
   "cell_type": "markdown",
   "metadata": {},
   "source": [
    "## Print available scenarios\n",
    "This cell shows all the available scenarios (within the ``scenarios/`` subfolder)"
   ]
  },
  {
   "cell_type": "code",
   "execution_count": null,
   "metadata": {},
   "outputs": [],
   "source": [
    "scenarioManager.printAvailableScenarios()"
   ]
  },
  {
   "cell_type": "markdown",
   "metadata": {},
   "source": [
    "## Write your own Scenario\n",
    "In the following line you may define your own scenario. Run the cell after setting the parameters in the ``scenario`` dictionary. Make sure to set a ``filename`` in the corresponding line.\n",
    "**You may overwrite existing scenarios**, so be careful!"
   ]
  },
  {
   "cell_type": "code",
   "execution_count": null,
   "metadata": {},
   "outputs": [],
   "source": [
    "scenarios = {\n",
    "    \"Scenario1\": {\n",
    "        \"constants\": {\n",
    "            \"cost.paymentTransactionCost\": 0.75,\n",
    "            \"cost.productDevelopmentWage\": 15000\n",
    "        },\n",
    "\n",
    "        \"strategy\": {\n",
    "            \"1\": {\n",
    "                \"cost.paymentTransactionCost\": 0.4,\n",
    "                \"customers.marketingBudget\": 10000\n",
    "            },\n",
    "        }\n",
    "\n",
    "    },\n",
    "    \"Scenario2\": {\n",
    "        \"constants\": {\n",
    "            \"cost.paymentTransactionCost\": 0.75,\n",
    "            \"cost.productDevelopmentWage\": 8700\n",
    "        },\n",
    "        \"strategy\": {\n",
    "            \"12\": {\n",
    "                \"cost.paymentTransactionCost\": 0.4,\n",
    "                \"customers.marketingBudget\": 6500\n",
    "            },\n",
    "        }\n",
    "\n",
    "    }\n",
    "}\n",
    "scenario_manager =\"ScenarioManager1\"\n",
    "model = \"simulation_models/model\"\n",
    "source = \"simulation_models/make_your_startup_grow.itmx\"\n",
    "filename = \"scenarios/test.json\" ## --> Alter the name! Please double-check!! I will not ask for overwrite!\n",
    "\n",
    "\n",
    "final_dictionary = {scenario_manager : { \"model\":model, \"source\": source, \"scenarios\" : scenarios }}\n",
    "\n",
    "print(final_dictionary)\n",
    "\n",
    "scenarioManager.createScenario(filename=filename,dictionary=final_dictionary)"
   ]
  }
 ],
 "metadata": {
  "kernelspec": {
   "display_name": "Python 3",
   "language": "python",
   "name": "python3"
  },
  "language_info": {
   "codemirror_mode": {
    "name": "ipython",
    "version": 3
   },
   "file_extension": ".py",
   "mimetype": "text/x-python",
   "name": "python",
   "nbconvert_exporter": "python",
   "pygments_lexer": "ipython3",
   "version": "3.7.0"
  }
 },
 "nbformat": 4,
 "nbformat_minor": 2
}
