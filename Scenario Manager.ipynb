{
 "cells": [
  {
   "cell_type": "markdown",
   "metadata": {},
   "source": [
    "## Scenario Manager\n",
    "\n",
    "This tool lets you easily check all available simulation scenarios and define your own ones using the predefined JSON structure"
   ]
  },
  {
   "cell_type": "code",
   "execution_count": 1,
   "metadata": {},
   "outputs": [],
   "source": [
    "from BPTK_Py.scenario_manager.scenario_manager import scenarioManager\n",
    "scenarioManager = scenarioManager()\n"
   ]
  },
  {
   "cell_type": "markdown",
   "metadata": {},
   "source": [
    "## Print available scenarios\n",
    "This cell shows all the available scenarios (within the ``scenarios/`` subfolder)"
   ]
  },
  {
   "cell_type": "code",
   "execution_count": 2,
   "metadata": {},
   "outputs": [
    {
     "name": "stdout",
     "output_type": "stream",
     "text": [
      "\n",
      "\n",
      "*************** Scenario: MakeYourStartUpGrow_2 *********************\n",
      "constants\n",
      " \t cost.paymentTransactionCost : \t0.5\n",
      " \t cost.productDevelopmentWage : \t10000\n",
      "sourceModel \t: simulation_models/make_your_startup_grow.itmx\n",
      "name \t: MakeYourStartUpGrow_2\n",
      "from \t: 1\n",
      "until \t: 100\n",
      "dt \t: 1\n",
      "model \t: simulation_models/model\n",
      "\n",
      "\n",
      "*************** Scenario: MakeYourStartUpGrow *********************\n",
      "constants\n",
      " \t cost.paymentTransactionCost : \t0.0\n",
      "sourceModel \t: simulation_models/make_your_startup_grow.itmx\n",
      "name \t: MakeYourStartUpGrow\n",
      "from \t: 1\n",
      "until \t: 100\n",
      "dt \t: 1\n",
      "model \t: simulation_models/model\n",
      "equationsToSimulate \t: ['cashFlow.cashFlowYtd']\n",
      "\n",
      "\n",
      "*************** Scenario: MakeYourStartUpGrow_strategy *********************\n",
      "constants\n",
      " \t cost.paymentTransactionCost : \t0.2\n",
      "sourceModel \t: simulation_models/make_your_startup_grow.itmx\n",
      "name \t: MakeYourStartUpGrow_strategy\n",
      "from \t: 1\n",
      "until \t: 100\n",
      "dt \t: 1\n",
      "model \t: simulation_models/model\n",
      "strategy\n",
      " \t 1 : \tcost.paymentTransactionCost \t : 0.4\n",
      " \t 2 : \tcost.paymentTransactionCost \t : 0.8\n",
      " \t 50 : \tcost.paymentTransactionCost \t : 0.65\n",
      " \t 76 : \tcost.paymentTransactionCost \t : 0.7\n",
      " \t 100 : \tcost.paymentTransactionCost \t : 0.99\n",
      "\n",
      "\n"
     ]
    }
   ],
   "source": [
    "scenarioManager.printAvailableScenarios()"
   ]
  },
  {
   "cell_type": "markdown",
   "metadata": {},
   "source": [
    "## Write your own Scenario\n",
    "In the following line you may define your own scenario. Run the cell after setting the parameters in the ``scenario`` dictionary. Make sure to set a ``filename`` in the corresponding line.\n",
    "**You may overwrite existing scenarios**, so be careful!"
   ]
  },
  {
   "cell_type": "code",
   "execution_count": null,
   "metadata": {},
   "outputs": [],
   "source": [
    "scenario = {\n",
    "    \"name\" : \"Model\",\n",
    "    \"from\" : 1,\n",
    "    \"to\"   : 100,\n",
    "    \"dt\"   : 1,\n",
    "    \"sourceModel\" : \"\"\n",
    "    \"model\": \"simulation_models/make_your_startup_grow.itmx\",\n",
    "    \n",
    "    \"constants\" : {\n",
    "        \"cost.paymentTransactionCost\" : 0.75 ,\n",
    "        \"cost.productDevelopmentWage\" : 15000\n",
    "    },\n",
    "    \n",
    "    \"equationsToSimulate\": [\n",
    "        \"cash.cash\",\n",
    "        \"cashFlow.cashFlowYtd\"\n",
    "    ]\n",
    "    \n",
    "    \n",
    "}\n",
    "filename = \"scenarios/\" ## --> Alter the name! Please double-check!!\n",
    "\n",
    "scenarioManager.createScenario(filename=filename,dictionary=scenario)"
   ]
  }
 ],
 "metadata": {
  "kernelspec": {
   "display_name": "Python 3",
   "language": "python",
   "name": "python3"
  },
  "language_info": {
   "codemirror_mode": {
    "name": "ipython",
    "version": 3
   },
   "file_extension": ".py",
   "mimetype": "text/x-python",
   "name": "python",
   "nbconvert_exporter": "python",
   "pygments_lexer": "ipython3",
   "version": "3.7.0"
  }
 },
 "nbformat": 4,
 "nbformat_minor": 2
}
