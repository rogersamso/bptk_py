{
 "cells": [
  {
   "cell_type": "code",
   "execution_count": null,
   "metadata": {},
   "outputs": [],
   "source": [
    "from __future__ import print_function\n",
    "from ipywidgets import interact, interactive, fixed, interact_manual\n",
    "import ipywidgets as widgets\n",
    "\n",
    "\n",
    "import BPTK_Py.config.config as config\n",
    "# C:\\Users\\dominik\\Code\\sd-compiler\n",
    "config.configuration[\"sd_py_compiler_root\"] = \"~/Code/sd-compiler/\"  ## <--- Please change this path to the git repo of the sd_compiler package!\n",
    "\n",
    "## BPTK Package\n",
    "from BPTK_Py.bptk import bptk \n",
    "#from BPTK_Py.scenariomanager.scenario_manager import scenarioManager\n",
    "\n",
    "bptk = bptk()\n",
    "#scenarioManager = bptk.ScenarioManager\n",
    "print(\"Available Scenario Managers and Scenarios:\")\n",
    "print()\n",
    "#managers = bptk.scenario_manager_factory.get_scenario_managers(scenario_managers_to_filter=[])\n",
    "\n",
    "\n"
   ]
  },
  {
   "cell_type": "code",
   "execution_count": null,
   "metadata": {},
   "outputs": [],
   "source": [
    "from BPTK_Py.widgetmanager.widget_manager import widgetGenerator\n",
    "\n",
    "widget_gen = widgetGenerator(bptk)\n",
    "\n",
    "config.configuration[\"log_modes\"]= [\"\"]\n",
    "\n",
    "widget_gen.generate_widget_data(scenario_managers=[\"ScenarioManager1\"],\n",
    "\n",
    "                                scenario_names=[\"MakeYourStartUpGrow_strategy\", \"MakeYourStartUpGrow\"],\n",
    "                                kind=\"line\",\n",
    "                                equations=[\"cash.cash\"],\n",
    "                                stacked=False,\n",
    "                                strategy=True,\n",
    "                                freq=\"D\",\n",
    "                                start_date=\"1/11/2017\",\n",
    "                                title=\"Modified Lambda method as a \\n Line Graph vs no modification\",\n",
    "                                x_label=\"Time\",\n",
    "                                y_label=\"Number\",\n",
    "                                constant= \"cash.cash\", interval=(0,10)\n",
    "                                )\n",
    "\n",
    "\n"
   ]
  },
  {
   "cell_type": "code",
   "execution_count": null,
   "metadata": {},
   "outputs": [],
   "source": []
  },
  {
   "cell_type": "code",
   "execution_count": 2,
   "metadata": {},
   "outputs": [
    {
     "ename": "NameError",
     "evalue": "name 'interact' is not defined",
     "output_type": "error",
     "traceback": [
      "\u001b[0;31m---------------------------------------------------------------------------\u001b[0m",
      "\u001b[0;31mNameError\u001b[0m                                 Traceback (most recent call last)",
      "\u001b[0;32m<ipython-input-2-74fe7e42fc9f>\u001b[0m in \u001b[0;36m<module>\u001b[0;34m()\u001b[0m\n\u001b[1;32m      1\u001b[0m \u001b[0;34m\u001b[0m\u001b[0m\n\u001b[0;32m----> 2\u001b[0;31m \u001b[0minteract\u001b[0m\u001b[0;34m(\u001b[0m\u001b[0mwidget_gen\u001b[0m\u001b[0;34m.\u001b[0m\u001b[0mget_value\u001b[0m\u001b[0;34m,\u001b[0m \u001b[0mx\u001b[0m\u001b[0;34m=\u001b[0m\u001b[0;36m9\u001b[0m\u001b[0;34m,\u001b[0m\u001b[0mscenario_name\u001b[0m\u001b[0;34m=\u001b[0m\u001b[0mfixed\u001b[0m\u001b[0;34m(\u001b[0m\u001b[0;34m\"MakeYourStartUpGrow_strategy\"\u001b[0m\u001b[0;34m)\u001b[0m\u001b[0;34m)\u001b[0m\u001b[0;34m;\u001b[0m\u001b[0;34m\u001b[0m\u001b[0m\n\u001b[0m",
      "\u001b[0;31mNameError\u001b[0m: name 'interact' is not defined"
     ]
    }
   ],
   "source": [
    "\n",
    "interact(widget_gen.get_value, x=9,scenario_name=fixed(\"MakeYourStartUpGrow_strategy\"));"
   ]
  },
  {
   "cell_type": "code",
   "execution_count": 4,
   "metadata": {},
   "outputs": [
    {
     "data": {
      "text/plain": [
       "0"
      ]
     },
     "metadata": {},
     "output_type": "display_data"
    },
    {
     "data": {
      "text/plain": [
       "<function __main__.f(x)>"
      ]
     },
     "execution_count": 4,
     "metadata": {},
     "output_type": "execute_result"
    }
   ],
   "source": [
    "def f(x):\n",
    "    return x\n",
    "interact(f,x=0)"
   ]
  },
  {
   "cell_type": "code",
   "execution_count": null,
   "metadata": {},
   "outputs": [],
   "source": []
  }
 ],
 "metadata": {
  "kernelspec": {
   "display_name": "Python 3",
   "language": "python",
   "name": "python3"
  },
  "language_info": {
   "codemirror_mode": {
    "name": "ipython",
    "version": 3
   },
   "file_extension": ".py",
   "mimetype": "text/x-python",
   "name": "python",
   "nbconvert_exporter": "python",
   "pygments_lexer": "ipython3",
   "version": "3.7.0"
  }
 },
 "nbformat": 4,
 "nbformat_minor": 2
}
