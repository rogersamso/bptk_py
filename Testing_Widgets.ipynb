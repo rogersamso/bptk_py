{
 "cells": [
  {
   "cell_type": "code",
   "execution_count": 1,
   "metadata": {},
   "outputs": [],
   "source": [
    "from __future__ import print_function\n",
    "from ipywidgets import interact, interactive, fixed, interact_manual\n",
    "import ipywidgets as widgets\n",
    "import BPTK_Py.config.config as config\n",
    "config.configuration[\"sd_py_compiler_root\"] = \"~/Code/sd-compiler/\"  ## <--- Please change this path to the git repo of the sd_compiler package!\n",
    "from BPTK_Py.bptk import bptk \n",
    "bptk = bptk()\n"
   ]
  },
  {
   "cell_type": "code",
   "execution_count": 3,
   "metadata": {},
   "outputs": [
    {
     "data": {
      "application/vnd.jupyter.widget-view+json": {
       "model_id": "7a583e9f6332490a88b0b204688785a8",
       "version_major": 2,
       "version_minor": 0
      },
      "text/plain": [
       "interactive(children=(IntSlider(value=0, description='cash.cash', max=10), Output()), _dom_classes=('widget-in…"
      ]
     },
     "metadata": {},
     "output_type": "display_data"
    }
   ],
   "source": [
    "from BPTK_Py.widgetmanager.widget_factory import widgetFactory\n",
    "\n",
    "widget_gen = widgetFactory(bptk)\n",
    "\n",
    "config.configuration[\"log_modes\"]= [\"\"]\n",
    "\n",
    "widget= widget_gen.generate_slider(scenario_managers=[\"ScenarioManager1\"],\n",
    "\n",
    "                                scenario_names=[\"MakeYourStartUpGrow_strategy\", \"MakeYourStartUpGrow\"],\n",
    "                                kind=\"line\",\n",
    "                                equations=[\"cash.cash\"],\n",
    "                                stacked=False,\n",
    "                                strategy=True,\n",
    "                                freq=\"D\",\n",
    "                                start_date=\"1/11/2017\",\n",
    "                                title=\"Modified Lambda method as a \\n Line Graph vs no modification\",\n",
    "                                x_label=\"Time\",\n",
    "                                y_label=\"Number\",\n",
    "                                constant= \"cash.cash\", interval=(0,10)\n",
    "                                )\n",
    "\n",
    "\n"
   ]
  },
  {
   "cell_type": "code",
   "execution_count": null,
   "metadata": {},
   "outputs": [],
   "source": []
  }
 ],
 "metadata": {
  "kernelspec": {
   "display_name": "Python 3",
   "language": "python",
   "name": "python3"
  },
  "language_info": {
   "codemirror_mode": {
    "name": "ipython",
    "version": 3
   },
   "file_extension": ".py",
   "mimetype": "text/x-python",
   "name": "python",
   "nbconvert_exporter": "python",
   "pygments_lexer": "ipython3",
   "version": "3.7.0"
  }
 },
 "nbformat": 4,
 "nbformat_minor": 2
}
