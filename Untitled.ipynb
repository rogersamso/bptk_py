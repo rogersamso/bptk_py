{
 "cells": [
  {
   "cell_type": "code",
   "execution_count": 2,
   "metadata": {},
   "outputs": [
    {
     "name": "stdout",
     "output_type": "stream",
     "text": [
      "     b\n",
      "1  0.9\n"
     ]
    }
   ],
   "source": [
    "from BPTK_Py import Model\n",
    "\n",
    "from BPTK_Py.bptk import bptk\n",
    "\n",
    " \n",
    "\n",
    "bptk = bptk()\n",
    "\n",
    "model = Model(starttime=1, stoptime=1, dt=1, name='test')\n",
    "\n",
    " \n",
    "\n",
    "a = model.converter('a')\n",
    "\n",
    "b = model.converter('b')\n",
    "\n",
    "a.equation = 0.1\n",
    "\n",
    "b.equation = 1 - a\n",
    "\n",
    "a = a.plot(return_df=True)\n",
    "\n"
   ]
  },
  {
   "cell_type": "code",
   "execution_count": 9,
   "metadata": {},
   "outputs": [
    {
     "data": {
      "text/plain": [
       "0.1"
      ]
     },
     "execution_count": 9,
     "metadata": {},
     "output_type": "execute_result"
    }
   ],
   "source": [
    "a.values[0][0]"
   ]
  },
  {
   "cell_type": "code",
   "execution_count": null,
   "metadata": {},
   "outputs": [],
   "source": []
  }
 ],
 "metadata": {
  "kernelspec": {
   "display_name": "Python 3",
   "language": "python",
   "name": "python3"
  },
  "language_info": {
   "codemirror_mode": {
    "name": "ipython",
    "version": 3
   },
   "file_extension": ".py",
   "mimetype": "text/x-python",
   "name": "python",
   "nbconvert_exporter": "python",
   "pygments_lexer": "ipython3",
   "version": "3.7.7"
  }
 },
 "nbformat": 4,
 "nbformat_minor": 4
}
